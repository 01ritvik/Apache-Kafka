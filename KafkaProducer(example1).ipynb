{
 "cells": [
  {
   "cell_type": "code",
   "execution_count": 17,
   "id": "e2d3f594",
   "metadata": {},
   "outputs": [
    {
     "name": "stdout",
     "output_type": "stream",
     "text": [
      "Requirement already satisfied: kafka-python in c:\\users\\abhis\\anaconda3\\lib\\site-packages (2.0.2)\n",
      "Note: you may need to restart the kernel to use updated packages.\n"
     ]
    }
   ],
   "source": [
    "pip install kafka-python"
   ]
  },
  {
   "cell_type": "code",
   "execution_count": 4,
   "id": "f19405f0",
   "metadata": {},
   "outputs": [],
   "source": [
    "import pandas as pd \n",
    "from kafka import KafkaProducer  # Importing the KafkaProducer class from the kafka library for producing messages to Kafka\n",
    "from time import sleep  # Importing the sleep function from the time module for introducing delays in code execution\n",
    "from json import dumps  # Importing the dumps function from the json module for serializing Python objects to JSON format\n",
    "import json  # Importing the json module for general JSON handling\n"
   ]
  },
  {
   "cell_type": "code",
   "execution_count": 5,
   "id": "b483a0e4",
   "metadata": {},
   "outputs": [],
   "source": [
    "# Create a KafkaProducer instance for producing messages to Kafka\n",
    "producer = KafkaProducer(\n",
    "    bootstrap_servers=['localhost:9092'],  # Specify the Kafka broker(s) to connect to localhost\n",
    "    value_serializer=lambda x: dumps(x).encode('utf-8')\n",
    "    # Specify how to serialize the message values before sending.\n",
    "    # Here, lambda x: dumps(x).encode('utf-8') is used as a custom serializer.\n",
    "    # It converts the message value (Python object) into a JSON string using the dumps() function from the json module,\n",
    "    # and then encodes the resulting JSON string to UTF-8 bytes format before sending it to Kafka.\n",
    ")\n"
   ]
  },
  {
   "cell_type": "code",
   "execution_count": 6,
   "id": "0c30b915",
   "metadata": {},
   "outputs": [
    {
     "data": {
      "text/plain": [
       "<kafka.producer.future.FutureRecordMetadata at 0x1f645aa1810>"
      ]
     },
     "execution_count": 6,
     "metadata": {},
     "output_type": "execute_result"
    }
   ],
   "source": [
    "# Consumer example 1\n",
    "\n",
    "# Sending a value {'Fastname':'Jhon'} to the Kafka topic \n",
    "producer.send('METCS777', value={'Fastname':'Jhon'})\n",
    "\n",
    "# Sending a value {'Lastname':'Wick'} to the Kafka topic \n",
    "producer.send('METCS777', value={'Lastname':'Wick'})\n",
    "\n"
   ]
  },
  {
   "cell_type": "code",
   "execution_count": null,
   "id": "ed71c0e4",
   "metadata": {},
   "outputs": [],
   "source": []
  },
  {
   "cell_type": "code",
   "execution_count": null,
   "id": "5991d10f",
   "metadata": {},
   "outputs": [],
   "source": []
  },
  {
   "cell_type": "code",
   "execution_count": null,
   "id": "3632d61d",
   "metadata": {},
   "outputs": [],
   "source": []
  }
 ],
 "metadata": {
  "kernelspec": {
   "display_name": "Python 3 (ipykernel)",
   "language": "python",
   "name": "python3"
  },
  "language_info": {
   "codemirror_mode": {
    "name": "ipython",
    "version": 3
   },
   "file_extension": ".py",
   "mimetype": "text/x-python",
   "name": "python",
   "nbconvert_exporter": "python",
   "pygments_lexer": "ipython3",
   "version": "3.11.5"
  }
 },
 "nbformat": 4,
 "nbformat_minor": 5
}
