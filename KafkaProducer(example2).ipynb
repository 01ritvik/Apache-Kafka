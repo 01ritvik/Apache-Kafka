{
 "cells": [
  {
   "cell_type": "code",
   "execution_count": 17,
   "id": "e2d3f594",
   "metadata": {},
   "outputs": [
    {
     "name": "stdout",
     "output_type": "stream",
     "text": [
      "Requirement already satisfied: kafka-python in c:\\users\\abhis\\anaconda3\\lib\\site-packages (2.0.2)\n",
      "Note: you may need to restart the kernel to use updated packages.\n"
     ]
    }
   ],
   "source": [
    "pip install kafka-python"
   ]
  },
  {
   "cell_type": "code",
   "execution_count": 7,
   "id": "f19405f0",
   "metadata": {},
   "outputs": [],
   "source": [
    "import pandas as pd \n",
    "from kafka import KafkaProducer  # Importing the KafkaProducer class from the kafka library for producing messages to Kafka\n",
    "from time import sleep  # Importing the sleep function from the time module for introducing delays in code execution\n",
    "from json import dumps  # Importing the dumps function from the json module for serializing Python objects to JSON format\n",
    "import json  # Importing the json module for general JSON handling\n"
   ]
  },
  {
   "cell_type": "code",
   "execution_count": 8,
   "id": "b483a0e4",
   "metadata": {},
   "outputs": [],
   "source": [
    "# Create a KafkaProducer instance for producing messages to Kafka\n",
    "producer = KafkaProducer(\n",
    "    bootstrap_servers=['localhost:9092'],  # Specify the Kafka broker(s) to connect to localhost\n",
    "    value_serializer=lambda x: dumps(x).encode('utf-8')\n",
    "    # Specify how to serialize the message values before sending.\n",
    "    # Here, lambda x: dumps(x).encode('utf-8') is used as a custom serializer.\n",
    "    # It converts the message value (Python object) into a JSON string using the dumps() function from the json module,\n",
    "    # and then encodes the resulting JSON string to UTF-8 bytes format before sending it to Kafka.\n",
    ")\n"
   ]
  },
  {
   "cell_type": "code",
   "execution_count": 9,
   "id": "0c30b915",
   "metadata": {},
   "outputs": [],
   "source": [
    "# Read the CSV file into a DataFrame\n",
    "df = pd.read_csv(\"indexProcessed.csv\")\n"
   ]
  },
  {
   "cell_type": "code",
   "execution_count": 10,
   "id": "92625715-017e-4e67-8a98-f5180bfcef5c",
   "metadata": {},
   "outputs": [
    {
     "data": {
      "text/html": [
       "<div>\n",
       "<style scoped>\n",
       "    .dataframe tbody tr th:only-of-type {\n",
       "        vertical-align: middle;\n",
       "    }\n",
       "\n",
       "    .dataframe tbody tr th {\n",
       "        vertical-align: top;\n",
       "    }\n",
       "\n",
       "    .dataframe thead th {\n",
       "        text-align: right;\n",
       "    }\n",
       "</style>\n",
       "<table border=\"1\" class=\"dataframe\">\n",
       "  <thead>\n",
       "    <tr style=\"text-align: right;\">\n",
       "      <th></th>\n",
       "      <th>Index</th>\n",
       "      <th>Date</th>\n",
       "      <th>Open</th>\n",
       "      <th>High</th>\n",
       "      <th>Low</th>\n",
       "      <th>Close</th>\n",
       "      <th>Adj Close</th>\n",
       "      <th>Volume</th>\n",
       "      <th>CloseUSD</th>\n",
       "    </tr>\n",
       "  </thead>\n",
       "  <tbody>\n",
       "    <tr>\n",
       "      <th>0</th>\n",
       "      <td>HSI</td>\n",
       "      <td>1986-12-31</td>\n",
       "      <td>2568.300049</td>\n",
       "      <td>2568.300049</td>\n",
       "      <td>2568.300049</td>\n",
       "      <td>2568.300049</td>\n",
       "      <td>2568.300049</td>\n",
       "      <td>0.0</td>\n",
       "      <td>333.879006</td>\n",
       "    </tr>\n",
       "    <tr>\n",
       "      <th>1</th>\n",
       "      <td>HSI</td>\n",
       "      <td>1987-01-02</td>\n",
       "      <td>2540.100098</td>\n",
       "      <td>2540.100098</td>\n",
       "      <td>2540.100098</td>\n",
       "      <td>2540.100098</td>\n",
       "      <td>2540.100098</td>\n",
       "      <td>0.0</td>\n",
       "      <td>330.213013</td>\n",
       "    </tr>\n",
       "    <tr>\n",
       "      <th>2</th>\n",
       "      <td>HSI</td>\n",
       "      <td>1987-01-05</td>\n",
       "      <td>2552.399902</td>\n",
       "      <td>2552.399902</td>\n",
       "      <td>2552.399902</td>\n",
       "      <td>2552.399902</td>\n",
       "      <td>2552.399902</td>\n",
       "      <td>0.0</td>\n",
       "      <td>331.811987</td>\n",
       "    </tr>\n",
       "    <tr>\n",
       "      <th>3</th>\n",
       "      <td>HSI</td>\n",
       "      <td>1987-01-06</td>\n",
       "      <td>2583.899902</td>\n",
       "      <td>2583.899902</td>\n",
       "      <td>2583.899902</td>\n",
       "      <td>2583.899902</td>\n",
       "      <td>2583.899902</td>\n",
       "      <td>0.0</td>\n",
       "      <td>335.906987</td>\n",
       "    </tr>\n",
       "    <tr>\n",
       "      <th>4</th>\n",
       "      <td>HSI</td>\n",
       "      <td>1987-01-07</td>\n",
       "      <td>2607.100098</td>\n",
       "      <td>2607.100098</td>\n",
       "      <td>2607.100098</td>\n",
       "      <td>2607.100098</td>\n",
       "      <td>2607.100098</td>\n",
       "      <td>0.0</td>\n",
       "      <td>338.923013</td>\n",
       "    </tr>\n",
       "  </tbody>\n",
       "</table>\n",
       "</div>"
      ],
      "text/plain": [
       "  Index        Date         Open         High          Low        Close  \\\n",
       "0   HSI  1986-12-31  2568.300049  2568.300049  2568.300049  2568.300049   \n",
       "1   HSI  1987-01-02  2540.100098  2540.100098  2540.100098  2540.100098   \n",
       "2   HSI  1987-01-05  2552.399902  2552.399902  2552.399902  2552.399902   \n",
       "3   HSI  1987-01-06  2583.899902  2583.899902  2583.899902  2583.899902   \n",
       "4   HSI  1987-01-07  2607.100098  2607.100098  2607.100098  2607.100098   \n",
       "\n",
       "     Adj Close  Volume    CloseUSD  \n",
       "0  2568.300049     0.0  333.879006  \n",
       "1  2540.100098     0.0  330.213013  \n",
       "2  2552.399902     0.0  331.811987  \n",
       "3  2583.899902     0.0  335.906987  \n",
       "4  2607.100098     0.0  338.923013  "
      ]
     },
     "execution_count": 10,
     "metadata": {},
     "output_type": "execute_result"
    }
   ],
   "source": [
    "# Display the first few rows of the DataFrame 'df'\n",
    "df.head()\n"
   ]
  },
  {
   "cell_type": "code",
   "execution_count": 11,
   "id": "3c093148-859a-4dbb-a243-5d860909dd46",
   "metadata": {},
   "outputs": [
    {
     "data": {
      "text/plain": [
       "[{'Index': '399001.SZ',\n",
       "  'Date': '2008-07-17',\n",
       "  'Open': 9460.30957,\n",
       "  'High': 9555.25,\n",
       "  'Low': 9211.129883,\n",
       "  'Close': 9288.370117,\n",
       "  'Adj Close': 9288.266602,\n",
       "  'Volume': 51700.0,\n",
       "  'CloseUSD': 1486.13921872}]"
      ]
     },
     "execution_count": 11,
     "metadata": {},
     "output_type": "execute_result"
    }
   ],
   "source": [
    "# Sample a random row from the DataFrame 'df' and convert it to a dictionary format\n",
    "df.sample(1).to_dict(orient=\"records\")\n"
   ]
  },
  {
   "cell_type": "code",
   "execution_count": 12,
   "id": "29959130-7dee-4834-86f8-beffc550fa73",
   "metadata": {},
   "outputs": [],
   "source": [
    "# Flag to control the loop\n",
    "running = True\n",
    "\n",
    "# Counter to keep track of the number of iterations\n",
    "iteration_count = 0\n",
    "\n",
    "# Maximum number of iterations\n",
    "max_iterations = 5\n",
    "\n",
    "while running:\n",
    "    # Sample a random row from the DataFrame 'df' and convert it to a dictionary format\n",
    "    dict_stock = df.sample(1).to_dict(orient=\"records\")[0]\n",
    "    \n",
    "    # Sending a value to the Kafka topic \n",
    "    producer.send('METCS777', value=dict_stock)\n",
    "    \n",
    "    # Pause execution for 1 second before sending the next message\n",
    "    sleep(1)\n",
    "\n",
    "    # Incrementing iteration count\n",
    "    iteration_count += 1\n",
    "\n",
    "    # Check if the maximum number of iterations has been reached or not\n",
    "    if iteration_count >= max_iterations:\n",
    "        running = False  # Set the flag to False to exit the loop after task is completed\n"
   ]
  },
  {
   "cell_type": "code",
   "execution_count": 47,
   "id": "ed71c0e4",
   "metadata": {},
   "outputs": [],
   "source": []
  },
  {
   "cell_type": "code",
   "execution_count": null,
   "id": "5991d10f",
   "metadata": {},
   "outputs": [],
   "source": []
  },
  {
   "cell_type": "code",
   "execution_count": null,
   "id": "3632d61d",
   "metadata": {},
   "outputs": [],
   "source": []
  }
 ],
 "metadata": {
  "kernelspec": {
   "display_name": "Python 3 (ipykernel)",
   "language": "python",
   "name": "python3"
  },
  "language_info": {
   "codemirror_mode": {
    "name": "ipython",
    "version": 3
   },
   "file_extension": ".py",
   "mimetype": "text/x-python",
   "name": "python",
   "nbconvert_exporter": "python",
   "pygments_lexer": "ipython3",
   "version": "3.11.5"
  }
 },
 "nbformat": 4,
 "nbformat_minor": 5
}
