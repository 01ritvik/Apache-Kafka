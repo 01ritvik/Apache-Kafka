{
 "cells": [
  {
   "cell_type": "code",
   "execution_count": null,
   "id": "b6675043",
   "metadata": {},
   "outputs": [],
   "source": [
    "pip install kafka-python"
   ]
  },
  {
   "cell_type": "code",
   "execution_count": 5,
   "id": "c15597c4-770b-46b5-bb0c-cf5baa294d5d",
   "metadata": {},
   "outputs": [],
   "source": [
    "from kafka import KafkaConsumer   # Importing the KafkaConsumer class from the kafka library\n",
    "from time import sleep   # Importing the sleep function from the time module\n",
    "from json import dumps, loads   # Importing the dumps (for JSON serialization) and loads (for JSON deserialization) functions from the json module\n",
    "import json   # Importing the json module for general JSON handling\n"
   ]
  },
  {
   "cell_type": "code",
   "execution_count": 6,
   "id": "9eeff3ef",
   "metadata": {},
   "outputs": [],
   "source": [
    "consumer = KafkaConsumer(\n",
    "    'METCS777',  # Specify the topic\n",
    "    bootstrap_servers=['localhost:9092'],  # Specify the Kafka broker(s) to connect to localhost\n",
    "    value_deserializer=lambda x: loads(x.decode('utf-8')))  # Specify how to deserialize the message values.\n",
    "    # Here, lambda x: loads(x.decode('utf-8')) is used as a custom deserializer. \n",
    "    # It decodes the message from bytes to a UTF-8 string using .decode('utf-8'), \n",
    "    # then deserializes the resulting JSON string using the loads() function from the json module.\n"
   ]
  },
  {
   "cell_type": "code",
   "execution_count": null,
   "id": "eda5a608",
   "metadata": {},
   "outputs": [],
   "source": [
    "# Iterate over messages received by the Kafka consumer\n",
    "for c in consumer:\n",
    "    # Print the value of each message\n",
    "    print(c.value)\n"
   ]
  },
  {
   "cell_type": "code",
   "execution_count": null,
   "id": "0f135e81",
   "metadata": {},
   "outputs": [],
   "source": [
    "# Iterate over messages received by the Kafka consumer and keep track of the count using enumerate\n",
    "for count, i in enumerate(consumer):\n",
    "    # Print the count of the message (starting from 0)\n",
    "    print(count)\n",
    "    \n",
    "    # Print the value of each message\n",
    "    print(i.value)\n"
   ]
  },
  {
   "cell_type": "code",
   "execution_count": null,
   "id": "7b811cb6",
   "metadata": {},
   "outputs": [],
   "source": []
  }
 ],
 "metadata": {
  "kernelspec": {
   "display_name": "Python 3 (ipykernel)",
   "language": "python",
   "name": "python3"
  },
  "language_info": {
   "codemirror_mode": {
    "name": "ipython",
    "version": 3
   },
   "file_extension": ".py",
   "mimetype": "text/x-python",
   "name": "python",
   "nbconvert_exporter": "python",
   "pygments_lexer": "ipython3",
   "version": "3.11.5"
  }
 },
 "nbformat": 4,
 "nbformat_minor": 5
}
